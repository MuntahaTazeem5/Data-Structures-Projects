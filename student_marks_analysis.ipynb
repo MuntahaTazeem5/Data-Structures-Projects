{
  "nbformat": 4,
  "nbformat_minor": 0,
  "metadata": {
    "colab": {
      "provenance": [],
      "authorship_tag": "ABX9TyMyQySHt+9Zsd4QmLx/aY7u",
      "include_colab_link": true
    },
    "kernelspec": {
      "name": "python3",
      "display_name": "Python 3"
    },
    "language_info": {
      "name": "python"
    }
  },
  "cells": [
    {
      "cell_type": "markdown",
      "metadata": {
        "id": "view-in-github",
        "colab_type": "text"
      },
      "source": [
        "<a href=\"https://colab.research.google.com/github/MuntahaTazeem5/Data-Structures-Projects/blob/main/student_marks_analysis.ipynb\" target=\"_parent\"><img src=\"https://colab.research.google.com/assets/colab-badge.svg\" alt=\"Open In Colab\"/></a>"
      ]
    },
    {
      "cell_type": "markdown",
      "source": [
        "Student Marks Analysis (count, index, sort, reverse, copy)\n",
        "\n",
        "Description:\n",
        "Track student marks in a list and analyze them.\n",
        "\n",
        "Instructions:\n",
        "\n",
        "Create a list of marks [78, 85, 90, 78, 88].\n",
        "\n",
        "Use count(78) to find how many times 78 occurred.\n",
        "\n",
        "Use index(90) to find where 90 is stored.\n",
        "\n",
        "Use sort() to arrange marks in ascending order.\n",
        "\n",
        "Use reverse() for descending order.\n",
        "\n",
        "Use copy() to duplicate before modifying."
      ],
      "metadata": {
        "id": "1rfnP61Yqut_"
      }
    },
    {
      "cell_type": "code",
      "source": [
        "marks=[78,85,90,78,88]"
      ],
      "metadata": {
        "id": "XzXfDMgCrEVW"
      },
      "execution_count": 1,
      "outputs": []
    },
    {
      "cell_type": "code",
      "source": [
        "marks.count(78)"
      ],
      "metadata": {
        "colab": {
          "base_uri": "https://localhost:8080/"
        },
        "id": "6Pb6G97RrLlc",
        "outputId": "2489e8cb-b92f-4e76-eb8f-bac8a04a6cfa"
      },
      "execution_count": 2,
      "outputs": [
        {
          "output_type": "execute_result",
          "data": {
            "text/plain": [
              "2"
            ]
          },
          "metadata": {},
          "execution_count": 2
        }
      ]
    },
    {
      "cell_type": "code",
      "source": [
        "marks.index(90)"
      ],
      "metadata": {
        "colab": {
          "base_uri": "https://localhost:8080/"
        },
        "id": "ORPeeuC8rQhp",
        "outputId": "4e075d38-b706-470d-9d39-14aa746932da"
      },
      "execution_count": 3,
      "outputs": [
        {
          "output_type": "execute_result",
          "data": {
            "text/plain": [
              "2"
            ]
          },
          "metadata": {},
          "execution_count": 3
        }
      ]
    },
    {
      "cell_type": "code",
      "source": [
        "marks.sort()"
      ],
      "metadata": {
        "id": "9zHY79ozrVa0"
      },
      "execution_count": 4,
      "outputs": []
    },
    {
      "cell_type": "code",
      "source": [
        "print(marks)"
      ],
      "metadata": {
        "colab": {
          "base_uri": "https://localhost:8080/"
        },
        "id": "2SHTHSUYrimu",
        "outputId": "cce7ddb9-dd01-430c-ad6a-335df8f201ae"
      },
      "execution_count": 6,
      "outputs": [
        {
          "output_type": "stream",
          "name": "stdout",
          "text": [
            "[90, 88, 85, 78, 78]\n"
          ]
        }
      ]
    },
    {
      "cell_type": "code",
      "source": [
        "marks.reverse()"
      ],
      "metadata": {
        "id": "FZKGATNLra2G"
      },
      "execution_count": 5,
      "outputs": []
    },
    {
      "cell_type": "code",
      "source": [
        "print(marks)"
      ],
      "metadata": {
        "colab": {
          "base_uri": "https://localhost:8080/"
        },
        "id": "K5O6Tur8rkq8",
        "outputId": "35992f8f-d2ce-48be-87c8-c02076223a4c"
      },
      "execution_count": 7,
      "outputs": [
        {
          "output_type": "stream",
          "name": "stdout",
          "text": [
            "[90, 88, 85, 78, 78]\n"
          ]
        }
      ]
    },
    {
      "cell_type": "code",
      "source": [
        "marks.copy()"
      ],
      "metadata": {
        "colab": {
          "base_uri": "https://localhost:8080/"
        },
        "id": "PJN_M2A9rvdP",
        "outputId": "2664cbca-3a65-403d-9c1a-926c8eb15d7a"
      },
      "execution_count": 8,
      "outputs": [
        {
          "output_type": "execute_result",
          "data": {
            "text/plain": [
              "[90, 88, 85, 78, 78]"
            ]
          },
          "metadata": {},
          "execution_count": 8
        }
      ]
    },
    {
      "cell_type": "code",
      "source": [
        "len(marks)"
      ],
      "metadata": {
        "colab": {
          "base_uri": "https://localhost:8080/"
        },
        "id": "yV-S5fTnrxvJ",
        "outputId": "8116ea4a-9d54-4530-dbb9-21969c2a2ad1"
      },
      "execution_count": 9,
      "outputs": [
        {
          "output_type": "execute_result",
          "data": {
            "text/plain": [
              "5"
            ]
          },
          "metadata": {},
          "execution_count": 9
        }
      ]
    },
    {
      "cell_type": "code",
      "source": [
        "type(marks)"
      ],
      "metadata": {
        "colab": {
          "base_uri": "https://localhost:8080/"
        },
        "id": "TwqGyD1_r0xb",
        "outputId": "477fa1f3-aab6-496a-92d9-5ff6a9161ba2"
      },
      "execution_count": 10,
      "outputs": [
        {
          "output_type": "execute_result",
          "data": {
            "text/plain": [
              "list"
            ]
          },
          "metadata": {},
          "execution_count": 10
        }
      ]
    }
  ]
}