{
  "nbformat": 4,
  "nbformat_minor": 0,
  "metadata": {
    "colab": {
      "provenance": [],
      "authorship_tag": "ABX9TyMS8a5HrvK5Q4jA4QrqxAff",
      "include_colab_link": true
    },
    "kernelspec": {
      "name": "python3",
      "display_name": "Python 3"
    },
    "language_info": {
      "name": "python"
    }
  },
  "cells": [
    {
      "cell_type": "markdown",
      "metadata": {
        "id": "view-in-github",
        "colab_type": "text"
      },
      "source": [
        "<a href=\"https://colab.research.google.com/github/MuntahaTazeem5/Data-Structures-Projects/blob/main/Untitled4.ipynb\" target=\"_parent\"><img src=\"https://colab.research.google.com/assets/colab-badge.svg\" alt=\"Open In Colab\"/></a>"
      ]
    },
    {
      "cell_type": "markdown",
      "source": [
        "**Contact Book (get, update, pop, popitem, clear)**\n",
        "\n",
        "*Description:*\n",
        "Manage a simple contact book with names as keys and phone numbers as values.\n",
        "\n",
        "*Instructions:*\n",
        "\n",
        "Create dictionary: {\"Alice\": \"1234\", \"Bob\": \"5678\"}.\n",
        "\n",
        "Use get(\"Alice\") to find Alice’s number.\n",
        "\n",
        "Use update({\"Charlie\": \"9999\"}) to add Charlie.\n",
        "\n",
        "Use pop(\"Bob\") to remove Bob.\n",
        "\n",
        "Use popitem() to remove last added contact.\n",
        "\n",
        "Use clear() to empty the phone book.\n",
        "\n",
        "*   List item\n",
        "*   List item\n",
        "\n"
      ],
      "metadata": {
        "id": "hRyfWV7NsTVt"
      }
    },
    {
      "cell_type": "code",
      "source": [
        "dict={\"Alice\": \"1234\", \"Bob\": \"5678\"}"
      ],
      "metadata": {
        "id": "QHkdz92zsVBe"
      },
      "execution_count": 1,
      "outputs": []
    },
    {
      "cell_type": "code",
      "source": [
        "dict.get(\"Alice\")"
      ],
      "metadata": {
        "colab": {
          "base_uri": "https://localhost:8080/",
          "height": 36
        },
        "id": "SOgAQLHJssp1",
        "outputId": "6cfaab06-a412-422c-b3c8-e943aba2ca3e"
      },
      "execution_count": 2,
      "outputs": [
        {
          "output_type": "execute_result",
          "data": {
            "text/plain": [
              "'1234'"
            ],
            "application/vnd.google.colaboratory.intrinsic+json": {
              "type": "string"
            }
          },
          "metadata": {},
          "execution_count": 2
        }
      ]
    },
    {
      "cell_type": "code",
      "source": [
        "dict.update({\"Charlie\": \"9999\"})"
      ],
      "metadata": {
        "id": "sZeDQIr8sy36"
      },
      "execution_count": 3,
      "outputs": []
    },
    {
      "cell_type": "code",
      "source": [
        "print(dict)"
      ],
      "metadata": {
        "colab": {
          "base_uri": "https://localhost:8080/"
        },
        "id": "VTBAT6Qas1-M",
        "outputId": "48bf6e52-b027-433b-b5de-23572b5a0bc9"
      },
      "execution_count": 4,
      "outputs": [
        {
          "output_type": "stream",
          "name": "stdout",
          "text": [
            "{'Alice': '1234', 'Bob': '5678', 'Charlie': '9999'}\n"
          ]
        }
      ]
    },
    {
      "cell_type": "code",
      "source": [
        "dict.pop(\"Bob\")"
      ],
      "metadata": {
        "colab": {
          "base_uri": "https://localhost:8080/",
          "height": 36
        },
        "id": "wUW5lgoRs582",
        "outputId": "635c2e8c-d151-4dbd-af13-19d8a16b52e9"
      },
      "execution_count": 5,
      "outputs": [
        {
          "output_type": "execute_result",
          "data": {
            "text/plain": [
              "'5678'"
            ],
            "application/vnd.google.colaboratory.intrinsic+json": {
              "type": "string"
            }
          },
          "metadata": {},
          "execution_count": 5
        }
      ]
    },
    {
      "cell_type": "code",
      "source": [
        "print(dict)"
      ],
      "metadata": {
        "colab": {
          "base_uri": "https://localhost:8080/"
        },
        "id": "hb_swe_js_Av",
        "outputId": "692f8432-2b60-46f5-8822-843b31187f95"
      },
      "execution_count": 6,
      "outputs": [
        {
          "output_type": "stream",
          "name": "stdout",
          "text": [
            "{'Alice': '1234', 'Charlie': '9999'}\n"
          ]
        }
      ]
    },
    {
      "cell_type": "code",
      "source": [
        "dict.popitem()"
      ],
      "metadata": {
        "colab": {
          "base_uri": "https://localhost:8080/"
        },
        "id": "kjPMMnMOtDqs",
        "outputId": "4e50d33c-aed2-4468-bfaa-ca01c4be8baf"
      },
      "execution_count": 7,
      "outputs": [
        {
          "output_type": "execute_result",
          "data": {
            "text/plain": [
              "('Charlie', '9999')"
            ]
          },
          "metadata": {},
          "execution_count": 7
        }
      ]
    },
    {
      "cell_type": "code",
      "source": [
        "dict.clear()"
      ],
      "metadata": {
        "id": "WDw_xtaXtLBc"
      },
      "execution_count": 8,
      "outputs": []
    },
    {
      "cell_type": "code",
      "source": [
        "print(dict)"
      ],
      "metadata": {
        "colab": {
          "base_uri": "https://localhost:8080/"
        },
        "id": "5_DJJnGttRJY",
        "outputId": "434d6fb2-7d91-4a28-9b91-0c11b14c02fb"
      },
      "execution_count": 9,
      "outputs": [
        {
          "output_type": "stream",
          "name": "stdout",
          "text": [
            "{}\n"
          ]
        }
      ]
    }
  ]
}
