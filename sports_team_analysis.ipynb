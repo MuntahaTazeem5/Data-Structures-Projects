{
  "nbformat": 4,
  "nbformat_minor": 0,
  "metadata": {
    "colab": {
      "provenance": [],
      "authorship_tag": "ABX9TyNkuaJwWtxsT1S7uNHsBN8u",
      "include_colab_link": true
    },
    "kernelspec": {
      "name": "python3",
      "display_name": "Python 3"
    },
    "language_info": {
      "name": "python"
    }
  },
  "cells": [
    {
      "cell_type": "markdown",
      "metadata": {
        "id": "view-in-github",
        "colab_type": "text"
      },
      "source": [
        "<a href=\"https://colab.research.google.com/github/MuntahaTazeem5/Data-Structures-Projects/blob/main/sports_team_analysis.ipynb\" target=\"_parent\"><img src=\"https://colab.research.google.com/assets/colab-badge.svg\" alt=\"Open In Colab\"/></a>"
      ]
    },
    {
      "cell_type": "markdown",
      "source": [
        "**Sports Teams Analysis (union, intersection, difference, symmetric_difference)**\n",
        "\n",
        "*Description:*\n",
        "\n",
        "Analyze players in two sports teams.\n",
        "\n",
        "*Instructions:*\n",
        "\n",
        "Team A = {Tom, Jerry, Mike}.\n",
        "\n",
        "Team B = {Mike, Sam, Bob}.\n",
        "\n",
        "Union → all players.\n",
        "\n",
        "Intersection → common players.\n",
        "\n",
        "Difference → players only in Team A.\n",
        "\n",
        "Symmetric difference → players in either team but not both."
      ],
      "metadata": {
        "id": "2Br-yTEezIrp"
      }
    },
    {
      "cell_type": "code",
      "source": [
        "TeamA = {\"Tom\", \"Jerry\", \"Mike\"}\n",
        "TeamB = {\"Mike\", \"Sam\", \"Bob\"}"
      ],
      "metadata": {
        "id": "U7JWM6vRzW7w"
      },
      "execution_count": 1,
      "outputs": []
    },
    {
      "cell_type": "code",
      "source": [
        "TeamA.union(TeamB)"
      ],
      "metadata": {
        "colab": {
          "base_uri": "https://localhost:8080/"
        },
        "id": "Ir7PigegzlOU",
        "outputId": "07ba956a-7286-477d-f365-49ba859c08c4"
      },
      "execution_count": 2,
      "outputs": [
        {
          "output_type": "execute_result",
          "data": {
            "text/plain": [
              "{'Bob', 'Jerry', 'Mike', 'Sam', 'Tom'}"
            ]
          },
          "metadata": {},
          "execution_count": 2
        }
      ]
    },
    {
      "cell_type": "code",
      "source": [
        "TeamA.intersection(TeamB)"
      ],
      "metadata": {
        "colab": {
          "base_uri": "https://localhost:8080/"
        },
        "id": "AxjfB_mczpnt",
        "outputId": "3b318aee-dda9-4fd3-81a7-a92174d607c7"
      },
      "execution_count": 3,
      "outputs": [
        {
          "output_type": "execute_result",
          "data": {
            "text/plain": [
              "{'Mike'}"
            ]
          },
          "metadata": {},
          "execution_count": 3
        }
      ]
    },
    {
      "cell_type": "code",
      "source": [
        "TeamA.difference(TeamB)"
      ],
      "metadata": {
        "colab": {
          "base_uri": "https://localhost:8080/"
        },
        "id": "XraPns1r0AnT",
        "outputId": "3b6db8e0-baa3-493b-9aa8-8c9296f685f8"
      },
      "execution_count": 4,
      "outputs": [
        {
          "output_type": "execute_result",
          "data": {
            "text/plain": [
              "{'Jerry', 'Tom'}"
            ]
          },
          "metadata": {},
          "execution_count": 4
        }
      ]
    },
    {
      "cell_type": "code",
      "source": [
        "TeamA.symmetric_difference(TeamB)"
      ],
      "metadata": {
        "colab": {
          "base_uri": "https://localhost:8080/"
        },
        "id": "2BLmHl7q0LWa",
        "outputId": "ad36fb04-415d-44dc-c551-e6eb431d227d"
      },
      "execution_count": 6,
      "outputs": [
        {
          "output_type": "execute_result",
          "data": {
            "text/plain": [
              "{'Bob', 'Jerry', 'Sam', 'Tom'}"
            ]
          },
          "metadata": {},
          "execution_count": 6
        }
      ]
    }
  ]
}