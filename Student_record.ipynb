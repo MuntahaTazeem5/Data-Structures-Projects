{
  "nbformat": 4,
  "nbformat_minor": 0,
  "metadata": {
    "colab": {
      "provenance": [],
      "authorship_tag": "ABX9TyNBBVCWandSWMGWY5xZ4B99",
      "include_colab_link": true
    },
    "kernelspec": {
      "name": "python3",
      "display_name": "Python 3"
    },
    "language_info": {
      "name": "python"
    }
  },
  "cells": [
    {
      "cell_type": "markdown",
      "metadata": {
        "id": "view-in-github",
        "colab_type": "text"
      },
      "source": [
        "<a href=\"https://colab.research.google.com/github/MuntahaTazeem5/Data-Structures-Projects/blob/main/Student_record.ipynb\" target=\"_parent\"><img src=\"https://colab.research.google.com/assets/colab-badge.svg\" alt=\"Open In Colab\"/></a>"
      ]
    },
    {
      "cell_type": "markdown",
      "source": [
        "**Student Record (count, index, unpack, concatenation, repetition)**\n",
        "\n",
        "*Description: *\n",
        "Use tuple for storing student’s immutable data (name, roll, grade).\n",
        "\n",
        "*Instructions:*\n",
        "\n",
        "Tuple: (\"John\", \"101\", \"A\", \"101\").\n",
        "\n",
        "Use count(\"101\") → appears twice.\n",
        "\n",
        "Use index(\"A\") → find grade.\n",
        "\n",
        "Repeat: (\"Holiday\",) * 3 → (\"Holiday\", \"Holiday\", \"Holiday\")."
      ],
      "metadata": {
        "id": "kTzbrptBvVb7"
      }
    },
    {
      "cell_type": "code",
      "source": [
        "tuple=(\"John\",\"101\",\"A\",\"101\")"
      ],
      "metadata": {
        "id": "DE0SRpKpvgqp"
      },
      "execution_count": 1,
      "outputs": []
    },
    {
      "cell_type": "code",
      "source": [
        "tuple.count(\"101\")"
      ],
      "metadata": {
        "colab": {
          "base_uri": "https://localhost:8080/"
        },
        "id": "ImjBseHCvqYw",
        "outputId": "f3b426a8-012c-4720-8e06-0d253230cbb1"
      },
      "execution_count": 2,
      "outputs": [
        {
          "output_type": "execute_result",
          "data": {
            "text/plain": [
              "2"
            ]
          },
          "metadata": {},
          "execution_count": 2
        }
      ]
    },
    {
      "cell_type": "code",
      "source": [
        "tuple.index(\"A\")"
      ],
      "metadata": {
        "colab": {
          "base_uri": "https://localhost:8080/"
        },
        "id": "xZcw_n43vtpU",
        "outputId": "e23ebdcf-8f03-4c41-83cf-2694a85b9796"
      },
      "execution_count": 3,
      "outputs": [
        {
          "output_type": "execute_result",
          "data": {
            "text/plain": [
              "2"
            ]
          },
          "metadata": {},
          "execution_count": 3
        }
      ]
    },
    {
      "cell_type": "code",
      "source": [
        "(\"Holiday\",) * 3"
      ],
      "metadata": {
        "colab": {
          "base_uri": "https://localhost:8080/"
        },
        "id": "MADlmQmtwMAR",
        "outputId": "c0818f72-ea70-4292-f55f-0cedbc398eb2"
      },
      "execution_count": 8,
      "outputs": [
        {
          "output_type": "execute_result",
          "data": {
            "text/plain": [
              "('Holiday', 'Holiday', 'Holiday')"
            ]
          },
          "metadata": {},
          "execution_count": 8
        }
      ]
    },
    {
      "cell_type": "code",
      "source": [
        "print(tuple)"
      ],
      "metadata": {
        "colab": {
          "base_uri": "https://localhost:8080/"
        },
        "id": "4aMqqbkZwoG6",
        "outputId": "6e70b2b4-6314-4744-c6d1-d400dfb7b0cd"
      },
      "execution_count": 9,
      "outputs": [
        {
          "output_type": "stream",
          "name": "stdout",
          "text": [
            "('John', '101', 'A', '101')\n"
          ]
        }
      ]
    }
  ]
}