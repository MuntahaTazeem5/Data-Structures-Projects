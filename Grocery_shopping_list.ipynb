{
  "nbformat": 4,
  "nbformat_minor": 0,
  "metadata": {
    "colab": {
      "provenance": [],
      "authorship_tag": "ABX9TyNSJQeFAK/7zqJ3Xw/EgeqO",
      "include_colab_link": true
    },
    "kernelspec": {
      "name": "python3",
      "display_name": "Python 3"
    },
    "language_info": {
      "name": "python"
    }
  },
  "cells": [
    {
      "cell_type": "markdown",
      "metadata": {
        "id": "view-in-github",
        "colab_type": "text"
      },
      "source": [
        "<a href=\"https://colab.research.google.com/github/MuntahaTazeem5/Data-Structures-Projects/blob/main/Grocery_shopping_list.ipynb\" target=\"_parent\"><img src=\"https://colab.research.google.com/assets/colab-badge.svg\" alt=\"Open In Colab\"/></a>"
      ]
    },
    {
      "cell_type": "markdown",
      "source": [
        "Grocery Shopping List (append, insert, remove, pop, clear)\n",
        "\n",
        "Description:\n",
        "Maintain a shopping list where you can add items, insert at specific positions, remove purchased items, undo the last added item, and finally clear the list.\n",
        "\n",
        "Instructions:\n",
        "\n",
        "Start with an empty list.\n",
        "\n",
        "Use append() to add items like \"milk\", \"bread\".\n",
        "\n",
        "Use insert(1, \"eggs\") to place \"eggs\" at position 1.\n",
        "\n",
        "Use remove(\"bread\") when bought.\n",
        "\n",
        "Use pop() to undo last item.\n",
        "\n",
        "Use clear() after shopping trip."
      ],
      "metadata": {
        "id": "drNyxwW5mfA-"
      }
    },
    {
      "cell_type": "code",
      "source": [
        "shopping_list=[]"
      ],
      "metadata": {
        "id": "Ap2X17CMmvjZ"
      },
      "execution_count": 4,
      "outputs": []
    },
    {
      "cell_type": "code",
      "source": [
        "shopping_list.append(\"milk\")\n",
        "shopping_list.append(\"bread\")"
      ],
      "metadata": {
        "id": "9RrSqKNWm6il"
      },
      "execution_count": 6,
      "outputs": []
    },
    {
      "cell_type": "code",
      "source": [
        "print(shopping_list)"
      ],
      "metadata": {
        "colab": {
          "base_uri": "https://localhost:8080/"
        },
        "id": "A2uzcotlndQ8",
        "outputId": "e6b08448-c5dc-46f1-f9cc-ce4db03c658b"
      },
      "execution_count": 7,
      "outputs": [
        {
          "output_type": "stream",
          "name": "stdout",
          "text": [
            "['milk', 'bread']\n"
          ]
        }
      ]
    },
    {
      "cell_type": "code",
      "source": [
        "shopping_list.insert(1,\"eggs\")"
      ],
      "metadata": {
        "id": "p4bx1Sm8nfsR"
      },
      "execution_count": 8,
      "outputs": []
    },
    {
      "cell_type": "code",
      "source": [
        "print(shopping_list)"
      ],
      "metadata": {
        "colab": {
          "base_uri": "https://localhost:8080/"
        },
        "id": "kFh_KTZOpxrv",
        "outputId": "54b93d41-9367-4896-a2a8-0e4292b81ed1"
      },
      "execution_count": 9,
      "outputs": [
        {
          "output_type": "stream",
          "name": "stdout",
          "text": [
            "['milk', 'eggs', 'bread']\n"
          ]
        }
      ]
    },
    {
      "cell_type": "code",
      "source": [
        "shopping_list.remove(\"bread\")"
      ],
      "metadata": {
        "id": "xLy-_OC1p0lk"
      },
      "execution_count": 10,
      "outputs": []
    },
    {
      "cell_type": "code",
      "source": [
        "print(shopping_list)"
      ],
      "metadata": {
        "colab": {
          "base_uri": "https://localhost:8080/"
        },
        "id": "cLq-bcmrp649",
        "outputId": "53d6dd9d-065f-4a0d-c541-50611bada78f"
      },
      "execution_count": 11,
      "outputs": [
        {
          "output_type": "stream",
          "name": "stdout",
          "text": [
            "['milk', 'eggs']\n"
          ]
        }
      ]
    },
    {
      "cell_type": "code",
      "source": [
        "shopping_list.pop()"
      ],
      "metadata": {
        "colab": {
          "base_uri": "https://localhost:8080/",
          "height": 36
        },
        "id": "DZ66i7Acp__m",
        "outputId": "b998ff35-f6dc-48d8-c525-8524773b714e"
      },
      "execution_count": 12,
      "outputs": [
        {
          "output_type": "execute_result",
          "data": {
            "text/plain": [
              "'eggs'"
            ],
            "application/vnd.google.colaboratory.intrinsic+json": {
              "type": "string"
            }
          },
          "metadata": {},
          "execution_count": 12
        }
      ]
    },
    {
      "cell_type": "code",
      "source": [
        "shopping_list.clear()"
      ],
      "metadata": {
        "id": "AmdUBXZaqF7i"
      },
      "execution_count": 13,
      "outputs": []
    },
    {
      "cell_type": "code",
      "source": [
        "print(shopping_list)"
      ],
      "metadata": {
        "colab": {
          "base_uri": "https://localhost:8080/"
        },
        "id": "A-3hNi_bqIaJ",
        "outputId": "d1a5b050-b7ed-463e-e137-501f6a1bd488"
      },
      "execution_count": 14,
      "outputs": [
        {
          "output_type": "stream",
          "name": "stdout",
          "text": [
            "[]\n"
          ]
        }
      ]
    },
    {
      "cell_type": "code",
      "source": [
        "type(shopping_list)"
      ],
      "metadata": {
        "colab": {
          "base_uri": "https://localhost:8080/"
        },
        "id": "jICGcc9eqL98",
        "outputId": "3b063892-8cb1-4204-e80c-f03d186b454f"
      },
      "execution_count": 16,
      "outputs": [
        {
          "output_type": "execute_result",
          "data": {
            "text/plain": [
              "list"
            ]
          },
          "metadata": {},
          "execution_count": 16
        }
      ]
    },
    {
      "cell_type": "code",
      "source": [
        "len(shopping_list)"
      ],
      "metadata": {
        "colab": {
          "base_uri": "https://localhost:8080/"
        },
        "id": "oH5ay8_SqXI_",
        "outputId": "4ea0f11b-bf2b-4037-ca00-aa1acf6ed034"
      },
      "execution_count": 17,
      "outputs": [
        {
          "output_type": "execute_result",
          "data": {
            "text/plain": [
              "0"
            ]
          },
          "metadata": {},
          "execution_count": 17
        }
      ]
    }
  ]
}