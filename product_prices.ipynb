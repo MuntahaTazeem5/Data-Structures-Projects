{
  "nbformat": 4,
  "nbformat_minor": 0,
  "metadata": {
    "colab": {
      "provenance": [],
      "authorship_tag": "ABX9TyMMQjbPhN66ZxVRRkrkpCgX",
      "include_colab_link": true
    },
    "kernelspec": {
      "name": "python3",
      "display_name": "Python 3"
    },
    "language_info": {
      "name": "python"
    }
  },
  "cells": [
    {
      "cell_type": "markdown",
      "metadata": {
        "id": "view-in-github",
        "colab_type": "text"
      },
      "source": [
        "<a href=\"https://colab.research.google.com/github/MuntahaTazeem5/Data-Structures-Projects/blob/main/Untitled5.ipynb\" target=\"_parent\"><img src=\"https://colab.research.google.com/assets/colab-badge.svg\" alt=\"Open In Colab\"/></a>"
      ]
    },
    {
      "cell_type": "markdown",
      "source": [
        "**Product Prices (keys, values, items, setdefault, copy)**\n",
        "\n",
        "*Description:*\n",
        "\n",
        "Store product names with prices and analyze.\n",
        "\n",
        "*Instructions:*\n",
        "\n",
        "Dictionary: {\"Apple\": 50, \"Banana\": 20, \"Mango\": 70}.\n",
        "\n",
        "Use keys() to list all products.\n",
        "\n",
        "Use values() to list all prices.\n",
        "\n",
        "Use items() to get both.\n",
        "\n",
        "Use setdefault(\"Orange\", 40) to add Orange if not present.\n",
        "\n",
        "Use copy() to keep a backup before updating."
      ],
      "metadata": {
        "id": "Yu-G1ScIuIc5"
      }
    },
    {
      "cell_type": "code",
      "source": [
        "dict={\"Apple\": 50, \"Banana\": 20, \"Mango\": 70}"
      ],
      "metadata": {
        "id": "0yB1yVDyuUfV"
      },
      "execution_count": 1,
      "outputs": []
    },
    {
      "cell_type": "code",
      "source": [
        "dict.keys()"
      ],
      "metadata": {
        "colab": {
          "base_uri": "https://localhost:8080/"
        },
        "id": "ro5xyypruZPv",
        "outputId": "c82fe1bd-7253-480a-e9b8-33e0eec5a863"
      },
      "execution_count": 2,
      "outputs": [
        {
          "output_type": "execute_result",
          "data": {
            "text/plain": [
              "dict_keys(['Apple', 'Banana', 'Mango'])"
            ]
          },
          "metadata": {},
          "execution_count": 2
        }
      ]
    },
    {
      "cell_type": "code",
      "source": [
        "dict.values()"
      ],
      "metadata": {
        "colab": {
          "base_uri": "https://localhost:8080/"
        },
        "id": "-sAWImaTucn3",
        "outputId": "1aaec05f-10ac-475f-afdb-2db440f57126"
      },
      "execution_count": 3,
      "outputs": [
        {
          "output_type": "execute_result",
          "data": {
            "text/plain": [
              "dict_values([50, 20, 70])"
            ]
          },
          "metadata": {},
          "execution_count": 3
        }
      ]
    },
    {
      "cell_type": "code",
      "source": [
        "dict.items()"
      ],
      "metadata": {
        "colab": {
          "base_uri": "https://localhost:8080/"
        },
        "id": "cQYBZlPzugrS",
        "outputId": "d711ffec-245c-44d4-ef5c-169499f71a9b"
      },
      "execution_count": 4,
      "outputs": [
        {
          "output_type": "execute_result",
          "data": {
            "text/plain": [
              "dict_items([('Apple', 50), ('Banana', 20), ('Mango', 70)])"
            ]
          },
          "metadata": {},
          "execution_count": 4
        }
      ]
    },
    {
      "cell_type": "code",
      "source": [
        "dict.setdefault(\"Orange\", 40)"
      ],
      "metadata": {
        "colab": {
          "base_uri": "https://localhost:8080/"
        },
        "id": "8lcTb10Oum0X",
        "outputId": "27c5b9fc-0138-43ab-8a4a-3c2f43af51d6"
      },
      "execution_count": 5,
      "outputs": [
        {
          "output_type": "execute_result",
          "data": {
            "text/plain": [
              "40"
            ]
          },
          "metadata": {},
          "execution_count": 5
        }
      ]
    },
    {
      "cell_type": "code",
      "source": [
        "dict.copy()"
      ],
      "metadata": {
        "colab": {
          "base_uri": "https://localhost:8080/"
        },
        "id": "BuuMdQcAutxI",
        "outputId": "6e21ab92-ad78-450d-eac4-a7fdfce2cd43"
      },
      "execution_count": 6,
      "outputs": [
        {
          "output_type": "execute_result",
          "data": {
            "text/plain": [
              "{'Apple': 50, 'Banana': 20, 'Mango': 70, 'Orange': 40}"
            ]
          },
          "metadata": {},
          "execution_count": 6
        }
      ]
    },
    {
      "cell_type": "code",
      "source": [
        "type(dict)\n",
        "len(dict)"
      ],
      "metadata": {
        "colab": {
          "base_uri": "https://localhost:8080/"
        },
        "id": "TT2vWk9PuyL2",
        "outputId": "91bb5dd8-a546-4115-fc14-9343acb24ea7"
      },
      "execution_count": 7,
      "outputs": [
        {
          "output_type": "execute_result",
          "data": {
            "text/plain": [
              "4"
            ]
          },
          "metadata": {},
          "execution_count": 7
        }
      ]
    }
  ]
}
