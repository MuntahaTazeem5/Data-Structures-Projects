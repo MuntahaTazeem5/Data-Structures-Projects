{
  "nbformat": 4,
  "nbformat_minor": 0,
  "metadata": {
    "colab": {
      "provenance": [],
      "authorship_tag": "ABX9TyNdxO7b8XEYoS2gdwxNz+ln",
      "include_colab_link": true
    },
    "kernelspec": {
      "name": "python3",
      "display_name": "Python 3"
    },
    "language_info": {
      "name": "python"
    }
  },
  "cells": [
    {
      "cell_type": "markdown",
      "metadata": {
        "id": "view-in-github",
        "colab_type": "text"
      },
      "source": [
        "<a href=\"https://colab.research.google.com/github/MuntahaTazeem5/Data-Structures-Projects/blob/main/postgame_stats.ipynb\" target=\"_parent\"><img src=\"https://colab.research.google.com/assets/colab-badge.svg\" alt=\"Open In Colab\"/></a>"
      ]
    },
    {
      "cell_type": "markdown",
      "source": [
        "Imagine you have a dataset 📊 with information about your favorite sports team. 🏀🎾⚽ The goal is to use Python's data structures to organize and analyze this data.\n",
        "\n",
        "If you can't think of any, feel free to use the 🏈 Super Bowl 2024 champions, the Kansas City Chiefs. 🏆\n",
        "\n",
        "As a data analyst for the Kansas City Chiefs you have been given a dataset containing information about the players, their positions, and some game statistics.\n",
        "\n",
        "Let's start analyzing!\n",
        "\n",
        "Create a list of dictionaries where each dictionary represents a player. Include attributes such as 'name,' 'position,' and 'jersey number.'\n",
        "Print out a list of all player positions in the dataset.\n",
        "Choose a player and update their game statistics in the dataset.\n",
        "Calculate the average statistics (e.g., yards gained, touchdowns) for all players and print the results.\n"
      ],
      "metadata": {
        "id": "DGUMRKwqbK22"
      }
    },
    {
      "cell_type": "code",
      "source": [
        "# List of player dictionaries\n",
        "players = [\n",
        "    {\"name\": \"Patrick Mahomes\", \"position\": \"Quarterback\", \"jersey_number\": 15, \"yards_gained\": 3200, \"touchdowns\": 25},\n",
        "    {\"name\": \"Travis Kelce\", \"position\": \"Tight End\", \"jersey_number\": 87, \"yards_gained\": 1100, \"touchdowns\": 8},\n",
        "    {\"name\": \"Isiah Pacheco\", \"position\": \"Running Back\", \"jersey_number\": 10, \"yards_gained\": 950, \"touchdowns\": 5},\n",
        "    {\"name\": \"Chris Jones\", \"position\": \"Defensive Tackle\", \"jersey_number\": 95, \"yards_gained\": 0, \"touchdowns\": 0},\n",
        "    {\"name\": \"Harrison Butker\", \"position\": \"Kicker\", \"jersey_number\": 7, \"yards_gained\": 0, \"touchdowns\": 0}\n",
        "]\n"
      ],
      "metadata": {
        "id": "X4OYPItQbUl8"
      },
      "execution_count": 1,
      "outputs": []
    },
    {
      "cell_type": "code",
      "source": [
        "positions = [player[\"position\"] for player in players]\n",
        "print(\"Player Positions:\", positions)\n"
      ],
      "metadata": {
        "colab": {
          "base_uri": "https://localhost:8080/"
        },
        "id": "4pp3PkGVbbgs",
        "outputId": "8daf4e60-636b-4f3c-fc46-8390399639b0"
      },
      "execution_count": 2,
      "outputs": [
        {
          "output_type": "stream",
          "name": "stdout",
          "text": [
            "Player Positions: ['Quarterback', 'Tight End', 'Running Back', 'Defensive Tackle', 'Kicker']\n"
          ]
        }
      ]
    },
    {
      "cell_type": "code",
      "source": [
        "# Update Patrick Mahomes' stats\n",
        "for player in players:\n",
        "    if player[\"name\"] == \"Patrick Mahomes\":\n",
        "        player[\"yards_gained\"] += 300\n",
        "        player[\"touchdowns\"] += 1\n",
        "        break\n"
      ],
      "metadata": {
        "id": "dhL3zdxZbgfE"
      },
      "execution_count": 3,
      "outputs": []
    },
    {
      "cell_type": "code",
      "source": [
        "# Initialize totals\n",
        "total_yards = 0\n",
        "total_touchdowns = 0\n",
        "num_players = len(players)\n",
        "\n"
      ],
      "metadata": {
        "id": "DZi-LjBvbq10"
      },
      "execution_count": 4,
      "outputs": []
    },
    {
      "cell_type": "code",
      "source": [
        "# Sum all stats\n",
        "for player in players:\n",
        "    total_yards += player[\"yards_gained\"]\n",
        "    total_touchdowns += player[\"touchdowns\"]\n"
      ],
      "metadata": {
        "id": "q-EZeQ2HbyQ7"
      },
      "execution_count": 5,
      "outputs": []
    },
    {
      "cell_type": "code",
      "source": [
        "# Calculate averages\n",
        "avg_yards = total_yards / num_players\n",
        "avg_touchdowns = total_touchdowns / num_players\n"
      ],
      "metadata": {
        "id": "2gmWBfhhbzls"
      },
      "execution_count": 6,
      "outputs": []
    },
    {
      "cell_type": "code",
      "source": [
        "print(\"Average Yards Gained:\", round(avg_yards, 2))\n",
        "print(\"Average Touchdowns:\", round(avg_touchdowns, 2))"
      ],
      "metadata": {
        "colab": {
          "base_uri": "https://localhost:8080/"
        },
        "id": "IVsZW3Xfb5J4",
        "outputId": "0d40beb6-38e9-4589-c832-305ace5491f3"
      },
      "execution_count": 7,
      "outputs": [
        {
          "output_type": "stream",
          "name": "stdout",
          "text": [
            "Average Yards Gained: 1110.0\n",
            "Average Touchdowns: 7.8\n"
          ]
        }
      ]
    }
  ]
}