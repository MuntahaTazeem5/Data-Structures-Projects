{
  "nbformat": 4,
  "nbformat_minor": 0,
  "metadata": {
    "colab": {
      "provenance": [],
      "authorship_tag": "ABX9TyMSbk0NXyn8QMAi3XxS5SuO",
      "include_colab_link": true
    },
    "kernelspec": {
      "name": "python3",
      "display_name": "Python 3"
    },
    "language_info": {
      "name": "python"
    }
  },
  "cells": [
    {
      "cell_type": "markdown",
      "metadata": {
        "id": "view-in-github",
        "colab_type": "text"
      },
      "source": [
        "<a href=\"https://colab.research.google.com/github/MuntahaTazeem5/Data-Structures-Projects/blob/main/visitors_to_website.ipynb\" target=\"_parent\"><img src=\"https://colab.research.google.com/assets/colab-badge.svg\" alt=\"Open In Colab\"/></a>"
      ]
    },
    {
      "cell_type": "markdown",
      "source": [
        "**Unique Visitors to Website (add, remove, discard, copy, clear)**\n",
        "\n",
        "*Description:*\n",
        "\n",
        "Track unique website visitors using sets.\n",
        "\n",
        "*Instructions:*\n",
        "\n",
        "Start with empty set.\n",
        "\n",
        "Use add(\"Alice\"), add(\"Bob\").\n",
        "\n",
        "Use remove(\"Alice\") when session expired.\n",
        "\n",
        "Use discard(\"Charlie\") (safe if not present).\n",
        "\n",
        "Use copy() to take a backup.\n",
        "\n",
        "Use clear() at day’s end."
      ],
      "metadata": {
        "id": "Wr-ZYXv1xU9x"
      }
    },
    {
      "cell_type": "code",
      "source": [
        "set=set()"
      ],
      "metadata": {
        "id": "p1H6EPWNxb5a"
      },
      "execution_count": 1,
      "outputs": []
    },
    {
      "cell_type": "code",
      "source": [
        "set.add(\"Alice\")\n",
        "set.add(\"Bob\")"
      ],
      "metadata": {
        "id": "xxYEPuBPxkPp"
      },
      "execution_count": 2,
      "outputs": []
    },
    {
      "cell_type": "code",
      "source": [
        "print(set)"
      ],
      "metadata": {
        "colab": {
          "base_uri": "https://localhost:8080/"
        },
        "id": "grAqATXJxu01",
        "outputId": "579415e8-1f57-4302-9fc1-ecc1dfcb42c3"
      },
      "execution_count": 4,
      "outputs": [
        {
          "output_type": "stream",
          "name": "stdout",
          "text": [
            "{'Bob', 'Alice'}\n"
          ]
        }
      ]
    },
    {
      "cell_type": "code",
      "source": [
        "set.remove(\"Alice\")"
      ],
      "metadata": {
        "id": "eb9wbWF_x0Bs"
      },
      "execution_count": 5,
      "outputs": []
    },
    {
      "cell_type": "code",
      "source": [
        "print(set)"
      ],
      "metadata": {
        "colab": {
          "base_uri": "https://localhost:8080/"
        },
        "id": "BlCCpESMx7h4",
        "outputId": "8d0a635d-3f32-43cb-87fb-5b6fff5f88ad"
      },
      "execution_count": 6,
      "outputs": [
        {
          "output_type": "stream",
          "name": "stdout",
          "text": [
            "{'Bob'}\n"
          ]
        }
      ]
    },
    {
      "cell_type": "code",
      "source": [
        "set.add(\"Charlie\")\n",
        "print(set)"
      ],
      "metadata": {
        "colab": {
          "base_uri": "https://localhost:8080/"
        },
        "id": "A2LympSEyB4x",
        "outputId": "94055b91-b633-4721-89d4-4e6da6591b1c"
      },
      "execution_count": 8,
      "outputs": [
        {
          "output_type": "stream",
          "name": "stdout",
          "text": [
            "{'Bob', 'Charlie'}\n"
          ]
        }
      ]
    },
    {
      "cell_type": "code",
      "source": [
        "set.discard(\"Charlie\")\n",
        "print(set)"
      ],
      "metadata": {
        "colab": {
          "base_uri": "https://localhost:8080/"
        },
        "id": "6os7sKKwyE1h",
        "outputId": "32e5a42d-71fa-4940-acfb-61a2b4c92678"
      },
      "execution_count": 9,
      "outputs": [
        {
          "output_type": "stream",
          "name": "stdout",
          "text": [
            "{'Bob'}\n"
          ]
        }
      ]
    },
    {
      "cell_type": "code",
      "source": [
        "set.copy()"
      ],
      "metadata": {
        "colab": {
          "base_uri": "https://localhost:8080/"
        },
        "id": "MAIIAqe7yM4Q",
        "outputId": "61908262-4f18-4f54-b7ce-c0bf711d7f40"
      },
      "execution_count": 10,
      "outputs": [
        {
          "output_type": "execute_result",
          "data": {
            "text/plain": [
              "{'Bob'}"
            ]
          },
          "metadata": {},
          "execution_count": 10
        }
      ]
    },
    {
      "cell_type": "code",
      "source": [
        "set.clear()\n",
        "print(set)\n"
      ],
      "metadata": {
        "colab": {
          "base_uri": "https://localhost:8080/"
        },
        "id": "WdMrjjU5ySyO",
        "outputId": "c6716c7b-ed2c-49cf-95b7-2a88caa18a3f"
      },
      "execution_count": 11,
      "outputs": [
        {
          "output_type": "stream",
          "name": "stdout",
          "text": [
            "set()\n"
          ]
        }
      ]
    }
  ]
}